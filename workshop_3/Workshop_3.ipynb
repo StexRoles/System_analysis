{
  "cells": [
    {
      "cell_type": "markdown",
      "metadata": {
        "id": "pFMuxeZc1Oyd"
      },
      "source": [
        "# Workshop No. 3\n",
        "\n",
        "As you are becoming an expert on understand systems, it is the time to create an __expert system__.\n",
        "\n",
        "Also, as you shoud know, you professor love movies a lot. So, you want to help him to choose next movies to watch. In this sense, you will take information for next movies from a popular website called ___IMDb___ where there is different information about movies and opinions.\n",
        "\n",
        "However, you do not want to spend money to get movies information using a _webAPI_. But, as you are a good _computer engineer_, you know there is a technique called _web scrapping_, and you could get information using _HTML_ from an website, and put this information into a _DataFrame_ just to make easier data processing.\n",
        "\n",
        "In this case, you are gonna use _request_ package to get HTML code from ___IMDb___ site, _beautiful soup_ package to make web scrapping, and _pandas_ to have a dataframe to handle data."
      ]
    },
    {
      "cell_type": "code",
      "execution_count": 1,
      "metadata": {
        "colab": {
          "base_uri": "https://localhost:8080/"
        },
        "id": "RKc3FAeZ1Oye",
        "outputId": "dbdc7361-7ea4-44e3-9497-1dfeb9001be3"
      },
      "outputs": [
        {
          "output_type": "stream",
          "name": "stdout",
          "text": [
            "Requirement already satisfied: pip in /usr/local/lib/python3.10/dist-packages (23.1.2)\n",
            "Collecting pip\n",
            "  Downloading pip-24.0-py3-none-any.whl (2.1 MB)\n",
            "\u001b[2K     \u001b[90m━━━━━━━━━━━━━━━━━━━━━━━━━━━━━━━━━━━━━━━━\u001b[0m \u001b[32m2.1/2.1 MB\u001b[0m \u001b[31m10.1 MB/s\u001b[0m eta \u001b[36m0:00:00\u001b[0m\n",
            "\u001b[?25hInstalling collected packages: pip\n",
            "  Attempting uninstall: pip\n",
            "    Found existing installation: pip 23.1.2\n",
            "    Uninstalling pip-23.1.2:\n",
            "      Successfully uninstalled pip-23.1.2\n",
            "Successfully installed pip-24.0\n",
            "Requirement already satisfied: requests in /usr/local/lib/python3.10/dist-packages (2.31.0)\n",
            "Requirement already satisfied: charset-normalizer<4,>=2 in /usr/local/lib/python3.10/dist-packages (from requests) (3.3.2)\n",
            "Requirement already satisfied: idna<4,>=2.5 in /usr/local/lib/python3.10/dist-packages (from requests) (3.7)\n",
            "Requirement already satisfied: urllib3<3,>=1.21.1 in /usr/local/lib/python3.10/dist-packages (from requests) (2.0.7)\n",
            "Requirement already satisfied: certifi>=2017.4.17 in /usr/local/lib/python3.10/dist-packages (from requests) (2024.2.2)\n",
            "\u001b[33mWARNING: Running pip as the 'root' user can result in broken permissions and conflicting behaviour with the system package manager. It is recommended to use a virtual environment instead: https://pip.pypa.io/warnings/venv\u001b[0m\u001b[33m\n",
            "\u001b[0mRequirement already satisfied: beautifulsoup4 in /usr/local/lib/python3.10/dist-packages (4.12.3)\n",
            "Requirement already satisfied: soupsieve>1.2 in /usr/local/lib/python3.10/dist-packages (from beautifulsoup4) (2.5)\n",
            "\u001b[33mWARNING: Running pip as the 'root' user can result in broken permissions and conflicting behaviour with the system package manager. It is recommended to use a virtual environment instead: https://pip.pypa.io/warnings/venv\u001b[0m\u001b[33m\n",
            "\u001b[0mRequirement already satisfied: pandas in /usr/local/lib/python3.10/dist-packages (2.0.3)\n",
            "Requirement already satisfied: python-dateutil>=2.8.2 in /usr/local/lib/python3.10/dist-packages (from pandas) (2.8.2)\n",
            "Requirement already satisfied: pytz>=2020.1 in /usr/local/lib/python3.10/dist-packages (from pandas) (2023.4)\n",
            "Requirement already satisfied: tzdata>=2022.1 in /usr/local/lib/python3.10/dist-packages (from pandas) (2024.1)\n",
            "Requirement already satisfied: numpy>=1.21.0 in /usr/local/lib/python3.10/dist-packages (from pandas) (1.25.2)\n",
            "Requirement already satisfied: six>=1.5 in /usr/local/lib/python3.10/dist-packages (from python-dateutil>=2.8.2->pandas) (1.16.0)\n",
            "\u001b[33mWARNING: Running pip as the 'root' user can result in broken permissions and conflicting behaviour with the system package manager. It is recommended to use a virtual environment instead: https://pip.pypa.io/warnings/venv\u001b[0m\u001b[33m\n",
            "\u001b[0m"
          ]
        }
      ],
      "source": [
        "# neccesary libraries\n",
        "!pip install --upgrade pip\n",
        "!pip install requests\n",
        "!pip install beautifulsoup4\n",
        "!pip install pandas"
      ]
    },
    {
      "cell_type": "markdown",
      "metadata": {
        "id": "eO6cLoho1Oyf"
      },
      "source": [
        "## 1. Get Movies Data\n",
        "\n",
        "In the link [IMDb Upcoming Relases](https://www.imdb.com/calendar/?ref_=rlm&region=US&type=MOVIE) there are next movies with some related data as genre or star actors. So, using html tags, you could take information and save it into python variables. At the end, here you want to have a DataFrame with movies information."
      ]
    },
    {
      "cell_type": "code",
      "execution_count": 2,
      "metadata": {
        "id": "_ymfAicz1Oyf"
      },
      "outputs": [],
      "source": [
        "# import libraries\n",
        "import requests\n",
        "from bs4 import BeautifulSoup\n",
        "\n",
        "def get_web_html(url: str) -> BeautifulSoup:\n",
        "    \"\"\"\n",
        "    This method gets the HTML from a website using scrapping.\n",
        "\n",
        "    Args:\n",
        "        url: URL to scrape.\n",
        "\n",
        "    Returns:\n",
        "        A BeautifulSoup object with the HTML.\n",
        "    \"\"\"\n",
        "    # headers to avoid 403 error, cos' IMDb blocks requests from bots\n",
        "    headers = {\n",
        "        \"User-Agent\": \"Mozilla/5.0 (Windows NT 10.0; Win64; x64) AppleWebKit/537.36 (KHTML, like Gecko) Chrome/58.0.3029.110 Safari/537.3\"\n",
        "    }\n",
        "\n",
        "    # get HTML and save it in a variable\n",
        "    response = requests.get(url, headers=headers)\n",
        "    return BeautifulSoup(response.text, \"html.parser\")\n",
        "\n",
        "\n"
      ]
    },
    {
      "cell_type": "code",
      "execution_count": 3,
      "metadata": {
        "id": "qjWSNwMx1Oyf"
      },
      "outputs": [],
      "source": [
        "# import libraries\n",
        "from bs4 import BeautifulSoup\n",
        "\n",
        "\n",
        "def get_title_year(movie_data: BeautifulSoup) -> tuple:\n",
        "    \"\"\"\n",
        "    This methog gets the title, year, and link of a movie data using scrapping.\n",
        "\n",
        "    Args:\n",
        "        movie_data: BeautifulSoup object with movie data.\n",
        "\n",
        "    Returns:\n",
        "        A tuple with title, year, and link.\n",
        "    \"\"\"\n",
        "    # process main title of subdivission\n",
        "    base_url = \"https://www.imdb.com\"\n",
        "    ref_data = movie_data.find(\"a\")\n",
        "    title = ref_data.text.split(\"(\")[0].strip()\n",
        "    year = ref_data.text.split(\"(\")[1].replace(\")\", \"\")\n",
        "    link = base_url + ref_data[\"href\"]\n",
        "    return title, year, link\n",
        "\n",
        "\n",
        "def get_genre_actors(movie_data: BeautifulSoup) -> list:\n",
        "    \"\"\"\n",
        "    This method gets genre and actors from a movie data using scrapping.\n",
        "\n",
        "    Args:\n",
        "        movie_data: BeautifulSoup object with movie data.\n",
        "\n",
        "    Returns:\n",
        "        A list with genre and actors.\n",
        "    \"\"\"\n",
        "    # process ul tags to get genre and actors\n",
        "    data = []\n",
        "    ul_tags = movie_data.find_all(\"ul\")\n",
        "    for ul_tag in ul_tags:\n",
        "        temp = []\n",
        "        for li_tag in ul_tag.find_all(\"li\"):\n",
        "            temp.append(li_tag.find(\"span\").get_text())\n",
        "        data.append(\", \".join(temp))\n",
        "    return data"
      ]
    },
    {
      "cell_type": "code",
      "execution_count": 6,
      "metadata": {
        "colab": {
          "base_uri": "https://localhost:8080/"
        },
        "id": "Qrk_6jO91Oyf",
        "outputId": "5256a5ac-4b97-46b9-8e7d-62f2eb12b762"
      },
      "outputs": [
        {
          "output_type": "stream",
          "name": "stdout",
          "text": [
            "                                         Title  Year  \\\n",
            "0                      Furiosa: A Mad Max Saga  2024   \n",
            "1                           The Garfield Movie  2024   \n",
            "2                                        Sight  2023   \n",
            "3  Kidnapped: The Abduction of Edgardo Mortara  2023   \n",
            "4                           Queen of the Deuce  2022   \n",
            "5                      The Commandant's Shadow  2024   \n",
            "\n",
            "                          Genre  \\\n",
            "0     Action, Adventure, Sci-Fi   \n",
            "1  Animation, Adventure, Comedy   \n",
            "2     Biography, Drama, History   \n",
            "3                Drama, History   \n",
            "4        Documentary, Biography   \n",
            "5                   Documentary   \n",
            "\n",
            "                                              Actors  \n",
            "0  Anya Taylor-Joy, Chris Hemsworth, Tom Burke, A...  \n",
            "1  Chris Pratt, Samuel L. Jackson, Hannah Wadding...  \n",
            "2  Terry Chen, Greg Kinnear, Natasha Mumba, Fionn...  \n",
            "3  Paolo Pierobon, Fausto Russo Alesi, Barbara Ro...  \n",
            "4  Chelly Wilson, Bondi Walters, Don Walters, Pau...  \n",
            "5  Hans-Jürgen Höss, Anita Lasker-Wallfisch, Klem...  \n"
          ]
        }
      ],
      "source": [
        "# import libraries\n",
        "from bs4 import BeautifulSoup\n",
        "import pandas as pd\n",
        "\n",
        "\n",
        "def generate_dataframe(url: str) -> pd.DataFrame:\n",
        "    \"\"\"\n",
        "    This method generates a DataFrame with movie data from IMDb.\n",
        "\n",
        "    Args:\n",
        "        url: URL to scrape.\n",
        "\n",
        "    Returns:\n",
        "        A DataFrame with movie data.\n",
        "    \"\"\"\n",
        "    # movies datastructure definition\n",
        "    imdb = get_web_html(url)\n",
        "    movies = []\n",
        "    movies_metadata = [\"Title\", \"Year\", \"Genre\", \"Actors\"]\n",
        "\n",
        "    # process HTML using scrapping going to each division with the class ipc-metadata-list-summary-item__tc\n",
        "    movies_html = imdb.find_all(\"div\", class_=\"ipc-metadata-list-summary-item__tc\")\n",
        "    for movie in movies_html:\n",
        "        # get each movie data into a clean html structure\n",
        "        movie_data = BeautifulSoup(str(movie), \"html.parser\")\n",
        "\n",
        "        # get movie data\n",
        "        title, year, link = get_title_year(movie_data)\n",
        "        data = get_genre_actors(movie_data)\n",
        "\n",
        "        # create a dictionary to have a nice data movie structure\n",
        "        movie_clean_data = {\n",
        "            \"Title\": title,\n",
        "            \"Year\": year,\n",
        "            \"Genre\": data[0],\n",
        "            \"Actors\": data[1] if len(data) > 1 else \"\",\n",
        "        }\n",
        "        # create a list of dictionaries to create a DataFrame\n",
        "        movies.append(movie_clean_data)\n",
        "\n",
        "    # create movies dataframe\n",
        "    return pd.DataFrame(movies, columns=movies_metadata)\n",
        "\n",
        "# ================================ MAIN =================================== #\n",
        "# url to scrape\n",
        "url = \"https://www.imdb.com/calendar/?ref_=rlm&region=US&type=MOVIE\"\n",
        "movies_df = generate_dataframe(url)\n",
        "print(movies_df.head(6))\n",
        ""
      ]
    },
    {
      "cell_type": "markdown",
      "metadata": {
        "id": "MqayYn0s1Oyf"
      },
      "source": [
        "## 2. Time to build a Decision Tree\n",
        "\n",
        "In order to create an expert system, you must define a decision tree. It means, a sequence of conditionals in order to get a result, it is like to build a flowchart composed for a lot of conditionals.\n",
        "\n",
        "In this part, you must to go to any site like _draw.io_ and create a __flowchart__ about how you think is the best decision process: _what questions do you want to make?_\n",
        "\n",
        "Remember, make the right questions is a pretty important step at any taks you want to do.\n",
        "\n",
        "As follows is the algorithm used in the ___expert system___ (replace image called _expert\\_system.png_):\n",
        "\n",
        "![Expert System](expert_system.png)\n"
      ]
    },
    {
      "cell_type": "markdown",
      "metadata": {
        "id": "MZ6NlD5G1Oyg"
      },
      "source": [
        "### 2.1 Your proposal\n",
        "\n",
        "_In this section you must write your system analysis, and justify the questions selection and order. Also, define system components, system sensibility, anything you consider important to solve this problem._\n",
        "\n"
      ]
    },
    {
      "cell_type": "markdown",
      "metadata": {
        "id": "QJhz4RsR1Oyg"
      },
      "source": [
        "## 3. Put your expert system at work\n",
        "\n",
        "Now it is the time to write code in order to create your first and __classical expert system__. Here it is important to use conditionals, and based on conditionals apply filters in _pandas dataframe_.\n",
        "\n",
        "![Classical AI](classical_ai.jpg)"
      ]
    },
    {
      "cell_type": "code",
      "execution_count": 24,
      "metadata": {
        "colab": {
          "base_uri": "https://localhost:8080/"
        },
        "id": "JR21C9fK1Oyg",
        "outputId": "c93ea493-86c3-4cb0-f04d-ec62f4b525d3"
      },
      "outputs": [
        {
          "output_type": "stream",
          "name": "stdout",
          "text": [
            "Welcome to 'Find your movie\n",
            "Then answer yes or no to the following questions\n",
            "\n",
            "You know the genre of your film?\n",
            "\n",
            "no\n",
            "\n",
            "Do you know the year the movie came out?\n",
            "\n",
            "no\n",
            "\n",
            "Do you know any actor who appears in the movie?\n",
            "\n",
            "yes\n",
            "\n",
            "What is the actor's name?\n",
            "\n",
            "Terry Chen\n",
            "   Title  Year                      Genre  \\\n",
            "2  Sight  2023  Biography, Drama, History   \n",
            "\n",
            "                                              Actors  \n",
            "2  Terry Chen, Greg Kinnear, Natasha Mumba, Fionn...  \n"
          ]
        }
      ],
      "source": [
        "# HERE write your code\n",
        "print(\"Welcome to 'Find your movie\")\n",
        "print(\"Then answer yes or no to the following questions\\n\")\n",
        "\n",
        "print(\"You know the genre of your film?\\n\")\n",
        "\n",
        "question_one = input()\n",
        "\n",
        "if question_one == \"yes\":\n",
        "  print(\"\\nWhat is the gender?\\n\")\n",
        "  genre = input()\n",
        "  filtered_movies_df = movies_df[movies_df['Genre'].str.contains(genre, na=False)]\n",
        "  print(\"\\nYour movie could be one of these:\\n\")\n",
        "  print(filtered_movies_df.head(3))\n",
        "\n",
        "elif question_one == \"no\":\n",
        "  print(\"\\nDo you know the year the movie came out?\\n\")\n",
        "  question_two = input()\n",
        "\n",
        "  if question_two == \"yes\":\n",
        "    print(\"\\nWhat is the year?\\n\")\n",
        "    year = input()\n",
        "    filtered_movies_df = movies_df[movies_df['Year'] == '2023']\n",
        "    print(\"\\nYour movie could be one of these:\\n\")\n",
        "    print(filtered_movies_df.head(3))\n",
        "\n",
        "  elif question_two == \"no\":\n",
        "    print(\"\\nDo you know any actor who appears in the movie?\\n\")\n",
        "    question_three = input()\n",
        "\n",
        "    if question_three == \"yes\":\n",
        "      print(\"\\nWhat is the actor's name?\\n\")\n",
        "      actor = input()\n",
        "      filtered_movies_df = movies_df[movies_df['Actors'].str.contains(actor, na=False)]\n",
        "      print(\"\\nYour movie could be one of these:\\n\")\n",
        "      print(filtered_movies_df.head(3))\n",
        "\n",
        "    elif question_three == \"no\":\n",
        "      print(\"\\nBetter go search on google\")\n",
        "\n",
        "    else:\n",
        "      print(\"Invalid response\")\n",
        "\n",
        "  else:\n",
        "    print(\"Invalid response\")\n",
        "\n",
        "else:\n",
        "  print(\"Invalid response\")\n",
        "\n",
        "\n"
      ]
    },
    {
      "cell_type": "markdown",
      "metadata": {
        "id": "0KOloR2M1Oyg"
      },
      "source": [
        "***\n",
        "\n",
        "# Some Useful Examples\n",
        "\n",
        "I know you are learning about _python_, _coding_, and this technologies. As follows there are some simple examples about how you can use filtering in _pandas_."
      ]
    },
    {
      "cell_type": "code",
      "execution_count": null,
      "metadata": {
        "id": "gRxRLKRW1Oyg",
        "outputId": "4c400f34-249a-4e76-a5e3-0fe5ef1b03e0"
      },
      "outputs": [
        {
          "name": "stdout",
          "output_type": "stream",
          "text": [
            "    Title  Year                      Genre  \\\n",
            "2   Sight  2023  Biography, Drama, History   \n",
            "3  Rapito  2023             Drama, History   \n",
            "8    Ezra  2023              Comedy, Drama   \n",
            "\n",
            "                                              Actors  \n",
            "2  Terry Chen, Greg Kinnear, Natasha Mumba, Fionn...  \n",
            "3  Paolo Pierobon, Fausto Russo Alesi, Barbara Ro...  \n",
            "8  Robert De Niro, Vera Farmiga, Tony Goldwyn, Ro...  \n"
          ]
        }
      ],
      "source": [
        "# filter by an exact value\n",
        "filtered_movies_df = movies_df[movies_df['Year'] == '2023']\n",
        "print(filtered_movies_df.head(3))"
      ]
    },
    {
      "cell_type": "code",
      "execution_count": null,
      "metadata": {
        "id": "AVg90XWh1Oyg",
        "outputId": "3f6300b8-d888-4e9b-aa1e-36c61aa147ed"
      },
      "outputs": [
        {
          "name": "stdout",
          "output_type": "stream",
          "text": [
            "                  Title  Year                      Genre  \\\n",
            "6         Terra Infirma  2024  Action, Thriller, Western   \n",
            "7   In a Violent Nature  2024    Drama, Horror, Thriller   \n",
            "11       April 29, 1992  2024    Action, Drama, Thriller   \n",
            "\n",
            "                                               Actors  \n",
            "6   Bruce Greenwood, Adam Beach, Wes Studi, Gísli ...  \n",
            "7   Ry Barrett, Andrea Pavlovic, Cameron Love, Ree...  \n",
            "11  Ray Liotta, Scott Eastwood, Tyrese Gibson, Dyl...  \n"
          ]
        }
      ],
      "source": [
        "# filter by a string option\n",
        "filtered_movies_df = movies_df[movies_df['Genre'].str.contains('Thriller', na=False)]\n",
        "print(filtered_movies_df.head(3))"
      ]
    }
  ],
  "metadata": {
    "kernelspec": {
      "display_name": "udistrital",
      "language": "python",
      "name": "python3"
    },
    "language_info": {
      "codemirror_mode": {
        "name": "ipython",
        "version": 3
      },
      "file_extension": ".py",
      "mimetype": "text/x-python",
      "name": "python",
      "nbconvert_exporter": "python",
      "pygments_lexer": "ipython3",
      "version": "3.11.0rc2"
    },
    "colab": {
      "provenance": []
    }
  },
  "nbformat": 4,
  "nbformat_minor": 0
}